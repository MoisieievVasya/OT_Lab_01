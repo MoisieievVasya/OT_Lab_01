{
 "cells": [
  {
   "cell_type": "code",
   "execution_count": 3,
   "metadata": {},
   "outputs": [],
   "source": [
    "import time\n",
    "import matplotlib as plt"
   ]
  },
  {
   "cell_type": "code",
   "execution_count": 4,
   "metadata": {},
   "outputs": [
    {
     "name": "stdout",
     "output_type": "stream",
     "text": [
      "{'uci_id': 165, 'name': 'Concrete Compressive Strength', 'repository_url': 'https://archive.ics.uci.edu/dataset/165/concrete+compressive+strength', 'data_url': 'https://archive.ics.uci.edu/static/public/165/data.csv', 'abstract': 'Concrete is the most important material in civil engineering. The concrete compressive strength is a highly nonlinear function of age and ingredients. ', 'area': 'Physics and Chemistry', 'tasks': ['Regression'], 'characteristics': ['Multivariate'], 'num_instances': 1030, 'num_features': 8, 'feature_types': ['Real'], 'demographics': [], 'target_col': ['Concrete compressive strength'], 'index_col': None, 'has_missing_values': 'no', 'missing_values_symbol': None, 'year_of_dataset_creation': 1998, 'last_updated': 'Sun Feb 11 2024', 'dataset_doi': '10.24432/C5PK67', 'creators': ['I-Cheng Yeh'], 'intro_paper': {'ID': 383, 'type': 'NATIVE', 'title': 'Modeling of strength of high-performance concrete using artificial neural networks', 'authors': 'I. Yeh', 'venue': 'Cement and Concrete Research, Vol. 28, No. 12', 'year': 1998, 'journal': None, 'DOI': '10.1016/S0008-8846(98)00165-3', 'URL': 'https://www.semanticscholar.org/paper/9310cae70452ea11465f338483e79cc36a68881c', 'sha': None, 'corpus': None, 'arxiv': None, 'mag': None, 'acl': None, 'pmid': None, 'pmcid': None}, 'additional_info': {'summary': 'Number of instances \\t1030\\r\\nNumber of Attributes\\t9\\r\\nAttribute breakdown\\t8 quantitative input variables, and 1 quantitative output variable\\r\\nMissing Attribute Values\\tNone \\r\\n', 'purpose': None, 'funded_by': None, 'instances_represent': None, 'recommended_data_splits': None, 'sensitive_data': None, 'preprocessing_description': None, 'variable_info': 'Given are the variable name, variable type, the measurement unit and a brief description. The concrete compressive strength is the regression problem. The order of this listing corresponds to the order of numerals along the rows of the database. \\r\\n\\r\\nName -- Data Type -- Measurement -- Description\\r\\n\\r\\nCement (component 1) -- quantitative -- kg in a m3 mixture -- Input Variable\\r\\nBlast Furnace Slag (component 2) -- quantitative -- kg in a m3 mixture -- Input Variable\\r\\nFly Ash (component 3) -- quantitative  -- kg in a m3 mixture -- Input Variable\\r\\nWater  (component 4) -- quantitative  -- kg in a m3 mixture -- Input Variable\\r\\nSuperplasticizer (component 5) -- quantitative -- kg in a m3 mixture -- Input Variable\\r\\nCoarse Aggregate  (component 6) -- quantitative -- kg in a m3 mixture -- Input Variable\\r\\nFine Aggregate (component 7)\\t -- quantitative  -- kg in a m3 mixture -- Input Variable\\r\\nAge -- quantitative  -- Day (1~365) -- Input Variable\\r\\nConcrete compressive strength -- quantitative -- MPa -- Output Variable\\r\\n\\r\\n', 'citation': None}}\n",
      "                            name     role        type demographic description  \\\n",
      "0                         Cement  Feature  Continuous        None        None   \n",
      "1             Blast Furnace Slag  Feature     Integer        None        None   \n",
      "2                        Fly Ash  Feature  Continuous        None        None   \n",
      "3                          Water  Feature  Continuous        None        None   \n",
      "4               Superplasticizer  Feature  Continuous        None        None   \n",
      "5               Coarse Aggregate  Feature  Continuous        None        None   \n",
      "6                 Fine Aggregate  Feature  Continuous        None        None   \n",
      "7                            Age  Feature     Integer        None        None   \n",
      "8  Concrete compressive strength   Target  Continuous        None        None   \n",
      "\n",
      "    units missing_values  \n",
      "0  kg/m^3             no  \n",
      "1  kg/m^3             no  \n",
      "2  kg/m^3             no  \n",
      "3  kg/m^3             no  \n",
      "4  kg/m^3             no  \n",
      "5  kg/m^3             no  \n",
      "6  kg/m^3             no  \n",
      "7     day             no  \n",
      "8     MPa             no  \n"
     ]
    }
   ],
   "source": [
    "from ucimlrepo import fetch_ucirepo \n",
    "import pandas as pd\n",
    "import numpy as np\n",
    "import matplotlib.pyplot as plt  \n",
    "# fetch dataset \n",
    "concrete_compressive_strength = fetch_ucirepo(id=165) \n",
    "  \n",
    "# data (as pandas dataframes) \n",
    "X = concrete_compressive_strength.data.features \n",
    "y = concrete_compressive_strength.data.targets \n",
    "  \n",
    "# metadata \n",
    "print(concrete_compressive_strength.metadata) \n",
    "  \n",
    "# variable information \n",
    "print(concrete_compressive_strength.variables) \n"
   ]
  },
  {
   "cell_type": "code",
   "execution_count": 5,
   "metadata": {},
   "outputs": [],
   "source": [
    "A = X.to_numpy()\n",
    "b = y.to_numpy().flatten()\n",
    "\n",
    "A = (A - np.mean(A, axis=0)) / np.std(A, axis=0)  \n"
   ]
  },
  {
   "cell_type": "code",
   "execution_count": 6,
   "metadata": {},
   "outputs": [
    {
     "data": {
      "text/plain": [
       "((1030, 8), (1030,))"
      ]
     },
     "execution_count": 6,
     "metadata": {},
     "output_type": "execute_result"
    }
   ],
   "source": [
    "A.shape, b.shape"
   ]
  },
  {
   "cell_type": "code",
   "execution_count": 7,
   "metadata": {},
   "outputs": [],
   "source": [
    "def LSE(A, x, b ):\n",
    "    m = A.shape[0]\n",
    "    LSE = (1/ 2* m)* np.linalg.norm(A@x -b, 2)**2\n",
    "    return LSE"
   ]
  },
  {
   "cell_type": "code",
   "execution_count": 8,
   "metadata": {},
   "outputs": [],
   "source": [
    "def LSE_grad(A, x, b):\n",
    "    m = A.shape[0]\n",
    "    grad = (1/ m) * A.T @ (A @ x - b)\n",
    "    return grad"
   ]
  },
  {
   "cell_type": "code",
   "execution_count": 9,
   "metadata": {},
   "outputs": [],
   "source": [
    "max_iter = 50 \n",
    "ebsilon = 0.0001\n",
    "\n",
    "x = np.zeros(A.shape[1])"
   ]
  },
  {
   "cell_type": "code",
   "execution_count": 10,
   "metadata": {},
   "outputs": [],
   "source": [
    "def calculate_L(A): \n",
    "    m = A.shape[0]\n",
    "    L = (1/m) * np.linalg.norm(A.T @ A, 2) \n",
    "    return L"
   ]
  },
  {
   "cell_type": "code",
   "execution_count": 11,
   "metadata": {},
   "outputs": [],
   "source": [
    "def gradient_descent(A, x, b, iter_step, max_iter):\n",
    "    for i in range(max_iter):\n",
    "        x = x - iter_step * LSE_grad(A, x, b)\n",
    "    return x"
   ]
  },
  {
   "cell_type": "code",
   "execution_count": 12,
   "metadata": {},
   "outputs": [],
   "source": [
    "def calculate_L2(A, b):\n",
    "    m = A.shape[0]\n",
    "    L2 = (1/m) * (20*np.linalg.norm(A.T@ A, 2)**2+ np.linalg.norm(A.T @b))\n",
    "    return L2"
   ]
  },
  {
   "cell_type": "code",
   "execution_count": 18,
   "metadata": {},
   "outputs": [],
   "source": [
    "learning_rates = [0.1, 1/calculate_L(A), 1/calculate_L2(A, b)]\n",
    "\n",
    "def gradient_descent(x0, learning_rate, max_iter, ebsilon, A, b):\n",
    "    history = []\n",
    "    x = x0\n",
    "    for i in range(max_iter):\n",
    "        grad = LSE_grad(A, x, b)\n",
    "        new_x = x - learning_rate * grad\n",
    "        if np.isnan(new_x).any() or np.isinf(new_x).any():\n",
    "            return x, i, history\n",
    "        if np.linalg.norm(grad) < ebsilon:\n",
    "            return x, i , history\n",
    "        \n",
    "        history.append(LSE(A, x, b))\n",
    "        x = new_x\n",
    "    return x, i, history"
   ]
  },
  {
   "cell_type": "code",
   "execution_count": 14,
   "metadata": {},
   "outputs": [],
   "source": [
    "def calculate_objective(x0, learning_rate_list, max_iter, ebsilon, A, b):\n",
    "    times = []\n",
    "    iterations = []\n",
    "    gobal_min = []\n",
    "    history_for_gammas = []\n",
    "    \n",
    "    for learning_rate in learning_rate_list:\n",
    "        start = time.time()  \n",
    "        x, i, history = gradient_descent(x0, learning_rate, max_iter, ebsilon, A, b) \n",
    "        end = time.time()  \n",
    "        \n",
    "        times.append(end - start)\n",
    "        iterations.append(i)\n",
    "        gobal_min.append(x)\n",
    "        history_for_gammas.append(history)\n",
    "\n",
    "    return times, iterations, gobal_min, history_for_gammas\n"
   ]
  },
  {
   "cell_type": "code",
   "execution_count": 19,
   "metadata": {},
   "outputs": [
    {
     "name": "stdout",
     "output_type": "stream",
     "text": [
      "Objective Values:  [np.float64(739901775.5440855), np.float64(737979668.7260293), np.float64(828332634.926748)]\n",
      "Learning Rate:  [0.1, np.float64(0.43857737822745846), np.float64(9.336203153918797e-06)]\n",
      "Time:  [0.001994609832763672, 0.002526521682739258, 0.0010001659393310547]\n",
      "Iterations:  [49, 49, 49]\n",
      "Global Min:  [array([ 7.33095821,  3.79949116,  0.68670989, -5.51133548,  3.20050662,\n",
      "       -1.47767978, -2.63929149,  6.78147191]), array([ 9.77780606,  6.27313915,  3.26173928, -5.49202652,  1.51603041,\n",
      "       -0.68549094, -1.00732203,  7.12481462]), array([ 0.00387927,  0.00105077, -0.00082397, -0.00225699,  0.00285253,\n",
      "       -0.00128512, -0.00130334,  0.00256299])]\n"
     ]
    }
   ],
   "source": [
    "times, iterations, global_min, history = calculate_objective(x, learning_rates, max_iter, ebsilon, A, b)\n",
    "objective_values = [LSE(A, x, b) for x in global_min]\n",
    "\n",
    "\n",
    "print(\"Objective Values: \", objective_values)\n",
    "print(\"Learning Rate: \", learning_rates)\n",
    "print(\"Time: \", times)\n",
    "print(\"Iterations: \", iterations)\n",
    "print(\"Global Min: \", global_min)"
   ]
  },
  {
   "cell_type": "code",
   "execution_count": 23,
   "metadata": {},
   "outputs": [
    {
     "data": {
      "text/plain": [
       "[[np.float64(828423499.4909998),\n",
       "  np.float64(810114234.5579022),\n",
       "  np.float64(795903931.2100607),\n",
       "  np.float64(784834162.5916563),\n",
       "  np.float64(776177753.9265025),\n",
       "  np.float64(769381436.4320526),\n",
       "  np.float64(764023114.1494284),\n",
       "  np.float64(759779905.0131286),\n",
       "  np.float64(756404163.5001578),\n",
       "  np.float64(753705440.1455367),\n",
       "  np.float64(751536872.5994216),\n",
       "  np.float64(749784894.7850418),\n",
       "  np.float64(748361437.2642024),\n",
       "  np.float64(747198002.594989),\n",
       "  np.float64(746241155.0892248),\n",
       "  np.float64(745449079.7915007),\n",
       "  np.float64(744788951.388183),\n",
       "  np.float64(744234917.8557147),\n",
       "  np.float64(743766551.6209594),\n",
       "  np.float64(743367656.97571),\n",
       "  np.float64(743025349.5166339),\n",
       "  np.float64(742729343.7305758),\n",
       "  np.float64(742471400.1909529),\n",
       "  np.float64(742244895.4231559),\n",
       "  np.float64(742044486.267707),\n",
       "  np.float64(741865847.2168051),\n",
       "  np.float64(741705464.2453187),\n",
       "  np.float64(741560472.4935178),\n",
       "  np.float64(741428528.0806698),\n",
       "  np.float64(741307706.5580068),\n",
       "  np.float64(741196422.2138045),\n",
       "  np.float64(741093363.7486672),\n",
       "  np.float64(740997442.8409814),\n",
       "  np.float64(740907752.8931557),\n",
       "  np.float64(740823535.8433843),\n",
       "  np.float64(740744155.386778),\n",
       "  np.float64(740669075.3054016),\n",
       "  np.float64(740597841.8830013),\n",
       "  np.float64(740530069.5953571),\n",
       "  np.float64(740465429.4351991),\n",
       "  np.float64(740403639.3622109),\n",
       "  np.float64(740344456.4719816),\n",
       "  np.float64(740287670.5591922),\n",
       "  np.float64(740233098.8146172),\n",
       "  np.float64(740180581.4465238),\n",
       "  np.float64(740129978.0575479),\n",
       "  np.float64(740081164.6404365),\n",
       "  np.float64(740034031.0818691),\n",
       "  np.float64(739988479.0842984),\n",
       "  np.float64(739944420.4323877)],\n",
       " [np.float64(828423499.4909998),\n",
       "  np.float64(765444926.1180542),\n",
       "  np.float64(749827525.8600172),\n",
       "  np.float64(744927867.3584617),\n",
       "  np.float64(742969032.4718815),\n",
       "  np.float64(741985745.4059418),\n",
       "  np.float64(741385048.569732),\n",
       "  np.float64(740959343.5215553),\n",
       "  np.float64(740627212.0659678),\n",
       "  np.float64(740353353.1340028),\n",
       "  np.float64(740120645.2522473),\n",
       "  np.float64(739919608.1167932),\n",
       "  np.float64(739744221.6258687),\n",
       "  np.float64(739590197.2306374),\n",
       "  np.float64(739454228.3458152),\n",
       "  np.float64(739333642.5330747),\n",
       "  np.float64(739226223.6627461),\n",
       "  np.float64(739130109.1660798),\n",
       "  np.float64(739043722.7398989),\n",
       "  np.float64(738965725.4874595),\n",
       "  np.float64(738894977.8754271),\n",
       "  np.float64(738830508.8592808),\n",
       "  np.float64(738771490.2533886),\n",
       "  np.float64(738717215.2024194),\n",
       "  np.float64(738667079.9886539),\n",
       "  np.float64(738620568.6114552),\n",
       "  np.float64(738577239.6963897),\n",
       "  np.float64(738536715.3733538),\n",
       "  np.float64(738498671.8237253),\n",
       "  np.float64(738462831.2442994),\n",
       "  np.float64(738428955.0148008),\n",
       "  np.float64(738396837.8882043),\n",
       "  np.float64(738366303.0504187),\n",
       "  np.float64(738337197.9189903),\n",
       "  np.float64(738309390.5700461),\n",
       "  np.float64(738282766.6993268),\n",
       "  np.float64(738257227.0372819),\n",
       "  np.float64(738232685.1501948),\n",
       "  np.float64(738209065.5695026),\n",
       "  np.float64(738186302.2001528),\n",
       "  np.float64(738164336.966196),\n",
       "  np.float64(738143118.6580933),\n",
       "  np.float64(738122601.9515277),\n",
       "  np.float64(738102746.5720487),\n",
       "  np.float64(738083516.583715),\n",
       "  np.float64(738064879.7831832),\n",
       "  np.float64(738046807.1834657),\n",
       "  np.float64(738029272.5739446),\n",
       "  np.float64(738012252.1452385),\n",
       "  np.float64(737995724.1692327)],\n",
       " [np.float64(828423499.4909998),\n",
       "  np.float64(828421681.2036551),\n",
       "  np.float64(828419862.9569808),\n",
       "  np.float64(828418044.7509766),\n",
       "  np.float64(828416226.585641),\n",
       "  np.float64(828414408.4609734),\n",
       "  np.float64(828412590.3769727),\n",
       "  np.float64(828410772.3336378),\n",
       "  np.float64(828408954.3309685),\n",
       "  np.float64(828407136.368963),\n",
       "  np.float64(828405318.4476204),\n",
       "  np.float64(828403500.5669401),\n",
       "  np.float64(828401682.7269213),\n",
       "  np.float64(828399864.9275626),\n",
       "  np.float64(828398047.168863),\n",
       "  np.float64(828396229.4508219),\n",
       "  np.float64(828394411.7734387),\n",
       "  np.float64(828392594.1367111),\n",
       "  np.float64(828390776.5406395),\n",
       "  np.float64(828388958.9852223),\n",
       "  np.float64(828387141.470459),\n",
       "  np.float64(828385323.9963483),\n",
       "  np.float64(828383506.562889),\n",
       "  np.float64(828381689.1700803),\n",
       "  np.float64(828379871.8179214),\n",
       "  np.float64(828378054.506412),\n",
       "  np.float64(828376237.2355499),\n",
       "  np.float64(828374420.005335),\n",
       "  np.float64(828372602.8157659),\n",
       "  np.float64(828370785.6668419),\n",
       "  np.float64(828368968.5585617),\n",
       "  np.float64(828367151.4909251),\n",
       "  np.float64(828365334.4639305),\n",
       "  np.float64(828363517.477577),\n",
       "  np.float64(828361700.5318636),\n",
       "  np.float64(828359883.6267896),\n",
       "  np.float64(828358066.762354),\n",
       "  np.float64(828356249.9385555),\n",
       "  np.float64(828354433.1553942),\n",
       "  np.float64(828352616.4128678),\n",
       "  np.float64(828350799.7109758),\n",
       "  np.float64(828348983.0497177),\n",
       "  np.float64(828347166.4290923),\n",
       "  np.float64(828345349.8490983),\n",
       "  np.float64(828343533.3097353),\n",
       "  np.float64(828341716.8110018),\n",
       "  np.float64(828339900.3528973),\n",
       "  np.float64(828338083.9354203),\n",
       "  np.float64(828336267.5585709),\n",
       "  np.float64(828334451.2223469)]]"
      ]
     },
     "execution_count": 23,
     "metadata": {},
     "output_type": "execute_result"
    }
   ],
   "source": [
    "history"
   ]
  },
  {
   "cell_type": "code",
   "execution_count": 26,
   "metadata": {},
   "outputs": [
    {
     "data": {
      "image/png": "[encoded data removed]",
      "text/plain": [
       "<Figure size 800x500 with 1 Axes>"
      ]
     },
     "metadata": {},
     "output_type": "display_data"
    }
   ],
   "source": [
    "plt.figure(figsize=(8, 5))\n",
    "\n",
    "for iteration, learning_rate in zip(history, learning_rates):\n",
    "    plt.plot(iteration, label=f\"γ = {learning_rate:.3g}\")\n",
    "plt.xlabel(\"Iteration Number\")\n",
    "plt.ylabel(\"Objective Function Value\")\n",
    "plt.title(\"Convergence of Gradient Descent (Least Squares)\")\n",
    "plt.legend()\n",
    "plt.grid(True)\n",
    "plt.tight_layout()\n",
    "plt.show()"
   ]
  },
  {
   "cell_type": "markdown",
   "metadata": {},
   "source": [
    "### Інтерпретація результатів  \n",
    "\n",
    "Після виконання градієнтного спуску з різними кроками $\\gamma$, отримані такі значення цільової функції та збіжності:  \n",
    "\n",
    "1. **$\\gamma = 0.1$**  \n",
    "   - Алгоритм збігається стабільно.  \n",
    "   - Значення цільової функції поступово зменшується до мінімального рівня.  \n",
    "   - Швидкість збіжності помірна, але покращується з ітераціями.  \n",
    "\n",
    "2. **$\\gamma = 0.439$**  \n",
    "   - Цільова функція зменшується значно швидше, ніж при $\\gamma = 0.1$.  \n",
    "   - Досягає нижчого мінімуму за меншу кількість ітерацій.  \n",
    "   - Крок близький до оптимального значення для цієї задачі.  \n",
    "\n",
    "3. **$\\gamma = 9.34 \\times 10^{-6}$**  \n",
    "   - Збіжність практично відсутня: функція залишається майже незмінною.  \n",
    "   - Крок занадто малий, що призводить до повільного оновлення параметрів.  \n",
    "\n",
    "### Висновок  \n",
    "\n",
    "- **Розмір кроку $\\gamma$ критично впливає на швидкість збіжності.**  \n",
    "  - Занадто малий крок ($\\gamma = 9.34 \\times 10^{-6}$) призводить до практично нульового прогресу.  \n",
    "  - Занадто великий крок може спричинити нестабільність або розбіжність.  \n",
    "  - Оптимальний крок ($\\gamma = 0.439$) забезпечує найшвидшу збіжність.  \n",
    "\n",
    "- **Якщо важлива швидка збіжність**, варто вибирати $\\gamma$ на основі оцінки Ліпшицевої константи градієнта, щоб балансувати між стабільністю та швидкістю.  \n",
    "\n",
    "- **Якщо цільовою функцією є квадратична похибка (least squares), то занадто великий або занадто малий крок може серйозно вплинути на якість розв’язку**.  \n",
    "\n",
    "Отже, для цієї задачі **$\\gamma = 0.439$ дає найкращі результати**, тоді як надто малий крок унеможливлює ефективну оптимізацію."
   ]
  }
 ],
 "metadata": {
  "kernelspec": {
   "display_name": "Python 3",
   "language": "python",
   "name": "python3"
  },
  "language_info": {
   "codemirror_mode": {
    "name": "ipython",
    "version": 3
   },
   "file_extension": ".py",
   "mimetype": "text/x-python",
   "name": "python",
   "nbconvert_exporter": "python",
   "pygments_lexer": "ipython3",
   "version": "3.12.2"
  }
 },
 "nbformat": 4,
 "nbformat_minor": 2
}
