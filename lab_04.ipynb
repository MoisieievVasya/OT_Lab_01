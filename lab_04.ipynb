{
 "cells": [
  {
   "cell_type": "code",
   "execution_count": 1,
   "metadata": {},
   "outputs": [],
   "source": [
    "import random"
   ]
  },
  {
   "cell_type": "code",
   "execution_count": 2,
   "metadata": {},
   "outputs": [],
   "source": [
    "def generate_chromosome(n):\n",
    "    return [random.randint(0, 1) for _ in range(n)]"
   ]
  },
  {
   "cell_type": "code",
   "execution_count": 4,
   "metadata": {},
   "outputs": [],
   "source": [
    "def fitness(chromosome, items, capacity):\n",
    "    total_weight = sum(w for (gene, (w, _)) in zip(chromosome, items) if gene)\n",
    "    total_value = sum(v for (gene, (_, v)) in zip(chromosome, items) if gene)\n",
    "    if total_weight > capacity:\n",
    "        return 0  \n",
    "    return total_value"
   ]
  },
  {
   "cell_type": "code",
   "execution_count": 5,
   "metadata": {},
   "outputs": [],
   "source": [
    "def selection(population, items, capacity):\n",
    "    selected = []\n",
    "    for _ in range(2):\n",
    "        candidates = random.sample(population, 3)\n",
    "        selected.append(max(candidates, key=lambda c: fitness(c, items, capacity)))\n",
    "    return selected"
   ]
  },
  {
   "cell_type": "code",
   "execution_count": 6,
   "metadata": {},
   "outputs": [],
   "source": [
    "def crossover(parent1, parent2):\n",
    "    point = random.randint(1, len(parent1) - 1)\n",
    "    return parent1[:point] + parent2[point:], parent2[:point] + parent1[point:]"
   ]
  },
  {
   "cell_type": "code",
   "execution_count": 7,
   "metadata": {},
   "outputs": [],
   "source": [
    "def mutation(chromosome, mutation_rate=0.05):\n",
    "    return [(1 - gene if random.random() < mutation_rate else gene) for gene in chromosome]"
   ]
  },
  {
   "cell_type": "code",
   "execution_count": 19,
   "metadata": {},
   "outputs": [],
   "source": [
    "def genetic_algorithm(items, capacity, generations=100, pop_size=50):\n",
    "    n = len(items)\n",
    "    population = [generate_chromosome(n) for _ in range(pop_size)]\n",
    "    for j in range(generations):\n",
    "        new_population = []\n",
    "        for _ in range(pop_size // 2):\n",
    "            p1, p2 = selection(population, items, capacity)\n",
    "            c1, c2 = crossover(p1, p2)\n",
    "            if j // 5 : \n",
    "                c1 = mutation(c1)\n",
    "                c2 = mutation(c2)\n",
    "            new_population += [c1, c2]\n",
    "        population = new_population\n",
    "        j += 1\n",
    "    best = max(population, key=lambda c: fitness(c, items, capacity))\n",
    "    return best, fitness(best, items, capacity)"
   ]
  },
  {
   "cell_type": "code",
   "execution_count": 9,
   "metadata": {},
   "outputs": [],
   "source": [
    "def decode_solution(chromosome, items):\n",
    "    selected = [items[i] for i in range(len(items)) if chromosome[i]]\n",
    "    return selected"
   ]
  },
  {
   "cell_type": "code",
   "execution_count": 23,
   "metadata": {},
   "outputs": [],
   "source": [
    "def solve_knapsack_test_cases():\n",
    "    C = int(input(\"Enter number of test cases: \"))\n",
    "    for case_id in range(1, C + 1):\n",
    "        N = int(input(\"Enter number of items: \"))\n",
    "        S = int(input(\"Enter knapsack capacity: \"))\n",
    "        items = []\n",
    "        for i in range(N):\n",
    "            while True:\n",
    "                try:\n",
    "                    values = input(f\"Item {i+1} (weight benefit): \").split()\n",
    "                    if len(values) != 2:\n",
    "                        raise ValueError(\"Enter exactly two numbers.\")\n",
    "                    weight, benefit = map(int, values)\n",
    "                    items.append((weight, benefit))\n",
    "                    break\n",
    "                except ValueError as e:\n",
    "                    print(\"Invalid input. Please enter two integers separated by space.\")\n",
    "        print(\"Parsed items:\", items)\n",
    "        best_chromosome, total_value = genetic_algorithm(items, S)\n",
    "        selected_items = decode_solution(best_chromosome, items)\n",
    "        print(f'\\nCase {case_id}: {total_value}')\n",
    "        print(len(selected_items))\n",
    "        for w, v in selected_items:\n",
    "            print(w, v)"
   ]
  },
  {
   "cell_type": "code",
   "execution_count": 20,
   "metadata": {},
   "outputs": [
    {
     "name": "stdout",
     "output_type": "stream",
     "text": [
      "\n",
      "Case 1: 15\n",
      "3\n",
      "2 3\n",
      "3 4\n",
      "5 8\n",
      "\n",
      "Case 2: 18\n",
      "4\n",
      "2 1\n",
      "6 8\n",
      "4 5\n",
      "3 4\n"
     ]
    }
   ],
   "source": [
    "test_cases = [\n",
    "    {\n",
    "        \"N\": 4,\n",
    "        \"S\": 10,\n",
    "        \"items\": [(2, 3), (3, 4), (4, 5), (5, 8)]\n",
    "    },\n",
    "    {\n",
    "        \"N\": 5,\n",
    "        \"S\": 15,\n",
    "        \"items\": [(2, 1), (5, 7), (6, 8), (4, 5), (3, 4)]\n",
    "    }\n",
    "]\n",
    "\n",
    "for case_id, case in enumerate(test_cases, 1):\n",
    "    best_chromosome, total_value = genetic_algorithm(case[\"items\"], case[\"S\"])\n",
    "    selected_items = decode_solution(best_chromosome, case[\"items\"])\n",
    "    print(f'\\nCase {case_id}: {total_value}')\n",
    "    print(len(selected_items))\n",
    "    for w, v in selected_items:\n",
    "        print(w, v)"
   ]
  },
  {
   "cell_type": "code",
   "execution_count": 22,
   "metadata": {},
   "outputs": [
    {
     "name": "stdout",
     "output_type": "stream",
     "text": [
      "Invalid input. Please enter two integers separated by space.\n",
      "Invalid input. Please enter two integers separated by space.\n",
      "Invalid input. Please enter two integers separated by space.\n",
      "Invalid input. Please enter two integers separated by space.\n",
      "Parsed items: [(3, 2), (1, 2), (1, 2), (1, 3), (2, 4), (5, 2)]\n",
      "\n",
      "Case 1: 13\n",
      "5\n",
      "3 2\n",
      "1 2\n",
      "1 2\n",
      "1 3\n",
      "2 4\n"
     ]
    },
    {
     "ename": "ValueError",
     "evalue": "invalid literal for int() with base 10: '2 5'",
     "output_type": "error",
     "traceback": [
      "\u001b[0;31m---------------------------------------------------------------------------\u001b[0m",
      "\u001b[0;31mValueError\u001b[0m                                Traceback (most recent call last)",
      "Cell \u001b[0;32mIn[22], line 1\u001b[0m\n\u001b[0;32m----> 1\u001b[0m \u001b[43msolve_knapsack_test_cases\u001b[49m\u001b[43m(\u001b[49m\u001b[43m)\u001b[49m\n",
      "Cell \u001b[0;32mIn[21], line 4\u001b[0m, in \u001b[0;36msolve_knapsack_test_cases\u001b[0;34m()\u001b[0m\n\u001b[1;32m      2\u001b[0m C \u001b[38;5;241m=\u001b[39m \u001b[38;5;28mint\u001b[39m(\u001b[38;5;28minput\u001b[39m(\u001b[38;5;124m\"\u001b[39m\u001b[38;5;124mEnter number of test cases: \u001b[39m\u001b[38;5;124m\"\u001b[39m))\n\u001b[1;32m      3\u001b[0m \u001b[38;5;28;01mfor\u001b[39;00m case_id \u001b[38;5;129;01min\u001b[39;00m \u001b[38;5;28mrange\u001b[39m(\u001b[38;5;241m1\u001b[39m, C \u001b[38;5;241m+\u001b[39m \u001b[38;5;241m1\u001b[39m):\n\u001b[0;32m----> 4\u001b[0m     N \u001b[38;5;241m=\u001b[39m \u001b[38;5;28;43mint\u001b[39;49m\u001b[43m(\u001b[49m\u001b[38;5;28;43minput\u001b[39;49m\u001b[43m(\u001b[49m\u001b[38;5;124;43m\"\u001b[39;49m\u001b[38;5;124;43mEnter number of items: \u001b[39;49m\u001b[38;5;124;43m\"\u001b[39;49m\u001b[43m)\u001b[49m\u001b[43m)\u001b[49m\n\u001b[1;32m      5\u001b[0m     S \u001b[38;5;241m=\u001b[39m \u001b[38;5;28mint\u001b[39m(\u001b[38;5;28minput\u001b[39m(\u001b[38;5;124m\"\u001b[39m\u001b[38;5;124mEnter knapsack capacity: \u001b[39m\u001b[38;5;124m\"\u001b[39m))\n\u001b[1;32m      6\u001b[0m     items \u001b[38;5;241m=\u001b[39m []\n",
      "\u001b[0;31mValueError\u001b[0m: invalid literal for int() with base 10: '2 5'"
     ]
    }
   ],
   "source": [
    "solve_knapsack_test_cases()"
   ]
  },
  {
   "cell_type": "markdown",
   "metadata": {},
   "source": [
    "### 1. What are the basic components of genetic algorithms?\n",
    "- Population  \n",
    "- Chromosomes (binary strings)  \n",
    "- Fitness function  \n",
    "- Selection  \n",
    "- Crossover  \n",
    "- Mutation  \n",
    "- Replacement  \n",
    "- Termination condition  \n",
    "\n",
    "### 2. What is elitism in genetic algorithms? Have you used it in your algorithm?\n",
    "- Elitism = preserving the best individuals into the next generation without changes.  \n",
    "- No, it wasn’t used in the current algorithm, but it can be added easily.\n",
    "\n",
    "### 3. What type of selections do you know? What are their advantages and disadvantages?\n",
    "- **Tournament** (used): fast, maintains diversity  \n",
    "- **Roulette Wheel**: simple, but may favor strong individuals too much  \n",
    "- **Rank**: fair, but slower convergence  \n",
    "- **Stochastic Universal Sampling**: balanced, but more complex\n",
    "\n",
    "### 4. How is fitness pressure regulated in genetic algorithms?\n",
    "- Through fitness scaling, mutation rate, selection method, or elitism.  \n",
    "- Helps avoid premature convergence and ensures steady evolution."
   ]
  }
 ],
 "metadata": {
  "kernelspec": {
   "display_name": "base",
   "language": "python",
   "name": "python3"
  },
  "language_info": {
   "codemirror_mode": {
    "name": "ipython",
    "version": 3
   },
   "file_extension": ".py",
   "mimetype": "text/x-python",
   "name": "python",
   "nbconvert_exporter": "python",
   "pygments_lexer": "ipython3",
   "version": "3.12.7"
  }
 },
 "nbformat": 4,
 "nbformat_minor": 2
}
